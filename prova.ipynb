{
 "cells": [
  {
   "cell_type": "code",
   "execution_count": 2,
   "metadata": {},
   "outputs": [
    {
     "data": {
      "text/plain": [
       "array([[0.91895806, 0.39064997, 0.64903881, 0.58083675, 0.62168657],\n",
       "       [0.81694584, 0.82857455, 0.17499012, 0.16897634, 0.09469282],\n",
       "       [0.76098782, 0.39032137, 0.88907084, 0.43204339, 0.26595682],\n",
       "       [0.27517449, 0.14101109, 0.8640421 , 0.17380861, 0.10696349],\n",
       "       [0.68389558, 0.04718907, 0.98738597, 0.86600252, 0.78389681],\n",
       "       [0.26007164, 0.98002135, 0.59715043, 0.30951071, 0.07713576],\n",
       "       [0.33116775, 0.18825672, 0.8321146 , 0.74762831, 0.00890571],\n",
       "       [0.31695213, 0.60343047, 0.81512411, 0.83326136, 0.14775863],\n",
       "       [0.99632453, 0.26358066, 0.71200172, 0.82537427, 0.14730583],\n",
       "       [0.83151863, 0.35591229, 0.64027488, 0.38411622, 0.59361059]])"
      ]
     },
     "execution_count": 2,
     "metadata": {},
     "output_type": "execute_result"
    }
   ],
   "source": [
    "import numpy as np\n",
    "\n",
    "n_samples = 10\n",
    "k = 5\n",
    "\n",
    "matrix = np.random.rand(n_samples, k)\n",
    "row_sums = np.sum(matrix, axis=1)\n",
    "normalized_matrix = matrix / row_sums[:, np.newaxis]\n"
   ]
  },
  {
   "cell_type": "code",
   "execution_count": 1,
   "metadata": {},
   "outputs": [
    {
     "data": {
      "text/plain": [
       "array([[0.29399155, 0.38311672, 0.32289173],\n",
       "       [0.33750765, 0.26241723, 0.40007512],\n",
       "       [0.1908342 , 0.38890714, 0.42025866],\n",
       "       [0.22501625, 0.46461061, 0.31037314],\n",
       "       [0.36304264, 0.59155755, 0.04539982]])"
      ]
     },
     "execution_count": 1,
     "metadata": {},
     "output_type": "execute_result"
    }
   ],
   "source": [
    "import numpy as np\n",
    "np.random.seed(0)\n",
    "matrix = np.random.rand(5, 3)\n",
    "row_sums = np.sum(matrix, axis=1)\n",
    "U = matrix / row_sums[:, np.newaxis]\n",
    "U"
   ]
  },
  {
   "cell_type": "code",
   "execution_count": 3,
   "metadata": {},
   "outputs": [
    {
     "data": {
      "text/plain": [
       "(5, 3)"
      ]
     },
     "execution_count": 3,
     "metadata": {},
     "output_type": "execute_result"
    }
   ],
   "source": [
    "U.shape"
   ]
  },
  {
   "cell_type": "code",
   "execution_count": 2,
   "metadata": {},
   "outputs": [
    {
     "data": {
      "text/plain": [
       "1.4103922899999999"
      ]
     },
     "execution_count": 2,
     "metadata": {},
     "output_type": "execute_result"
    }
   ],
   "source": [
    "0.29399155+0.33750765+0.1908342+0.22501625+0.36304264"
   ]
  },
  {
   "cell_type": "code",
   "execution_count": 4,
   "metadata": {},
   "outputs": [
    {
     "data": {
      "text/plain": [
       "1.4103922906737678"
      ]
     },
     "execution_count": 4,
     "metadata": {},
     "output_type": "execute_result"
    }
   ],
   "source": [
    "s=0\n",
    "for i in range(U.shape[0]):\n",
    "    s+=U[i,0]\n",
    "s"
   ]
  },
  {
   "cell_type": "code",
   "execution_count": 6,
   "metadata": {},
   "outputs": [
    {
     "data": {
      "text/plain": [
       "1.4103922906737678"
      ]
     },
     "execution_count": 6,
     "metadata": {},
     "output_type": "execute_result"
    }
   ],
   "source": [
    "np.sum(U[:,0])"
   ]
  },
  {
   "cell_type": "code",
   "execution_count": 12,
   "metadata": {},
   "outputs": [
    {
     "data": {
      "text/plain": [
       "array([0.34574825, 0.32473767, 0.26772849])"
      ]
     },
     "execution_count": 12,
     "metadata": {},
     "output_type": "execute_result"
    }
   ],
   "source": [
    "np.random.seed(0)\n",
    "matrix = np.random.rand(10, 3)\n",
    "row_sums = np.sum(matrix, axis=1)\n",
    "U = matrix / row_sums[:, np.newaxis]\n",
    "U\n",
    "\n",
    "sum = 0\n",
    "for i in range( U.shape[0]):\n",
    "    sum += (U[i,0]**2) * U[i,:]\n",
    "\n",
    "sum"
   ]
  },
  {
   "cell_type": "code",
   "execution_count": 13,
   "metadata": {},
   "outputs": [],
   "source": [
    "sum = np.sum((U[:, 0]**2)[:, np.newaxis] * U, axis=0)\n",
    "tmp=sum/np.sum(U[:,0])"
   ]
  },
  {
   "cell_type": "code",
   "execution_count": 14,
   "metadata": {},
   "outputs": [
    {
     "data": {
      "text/plain": [
       "array([0.12242324, 0.11498377, 0.09479785])"
      ]
     },
     "execution_count": 14,
     "metadata": {},
     "output_type": "execute_result"
    }
   ],
   "source": [
    "tmp"
   ]
  },
  {
   "cell_type": "code",
   "execution_count": 15,
   "metadata": {},
   "outputs": [],
   "source": [
    "U[0,:]=tmp"
   ]
  },
  {
   "cell_type": "code",
   "execution_count": 16,
   "metadata": {},
   "outputs": [
    {
     "data": {
      "text/plain": [
       "array([[0.12242324, 0.11498377, 0.09479785],\n",
       "       [0.33750765, 0.26241723, 0.40007512],\n",
       "       [0.1908342 , 0.38890714, 0.42025866],\n",
       "       [0.22501625, 0.46461061, 0.31037314],\n",
       "       [0.36304264, 0.59155755, 0.04539982],\n",
       "       [0.09269394, 0.02150968, 0.88579638],\n",
       "       [0.29623897, 0.3312077 , 0.37255333],\n",
       "       [0.3915204 , 0.22608603, 0.38239357],\n",
       "       [0.13119027, 0.70980192, 0.15900781],\n",
       "       [0.5021685 , 0.2774049 , 0.22042661]])"
      ]
     },
     "execution_count": 16,
     "metadata": {},
     "output_type": "execute_result"
    }
   ],
   "source": [
    "U"
   ]
  },
  {
   "cell_type": "code",
   "execution_count": 32,
   "metadata": {},
   "outputs": [
    {
     "data": {
      "text/plain": [
       "array([2.82420438])"
      ]
     },
     "execution_count": 32,
     "metadata": {},
     "output_type": "execute_result"
    }
   ],
   "source": [
    "np.sum((U[:, 0])[:, np.newaxis] , axis=0)"
   ]
  }
 ],
 "metadata": {
  "kernelspec": {
   "display_name": "Python 3",
   "language": "python",
   "name": "python3"
  },
  "language_info": {
   "codemirror_mode": {
    "name": "ipython",
    "version": 3
   },
   "file_extension": ".py",
   "mimetype": "text/x-python",
   "name": "python",
   "nbconvert_exporter": "python",
   "pygments_lexer": "ipython3",
   "version": "3.11.1"
  },
  "orig_nbformat": 4
 },
 "nbformat": 4,
 "nbformat_minor": 2
}
