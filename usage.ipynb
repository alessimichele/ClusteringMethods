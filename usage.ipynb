{
 "cells": [
  {
   "cell_type": "code",
   "execution_count": 2,
   "metadata": {},
   "outputs": [
    {
     "name": "stdout",
     "output_type": "stream",
     "text": [
      "Running time: 0.0523 seconds\n"
     ]
    }
   ],
   "source": [
    "import numpy as np\n",
    "from sklearn.datasets import make_blobs\n",
    "from ClusteringClass import Clustering\n",
    "\n",
    "# Generate random data\n",
    "X, _ = make_blobs(n_samples=1000, centers=5, random_state=42)\n",
    "\n",
    "# Create an instance of Clustering class\n",
    "clustering = Clustering(k=5)\n",
    "\n",
    "# Fit the data\n",
    "clustering.fit(X)\n",
    "\n",
    "# Print running time to fit\n",
    "clustering.time()"
   ]
  }
 ],
 "metadata": {
  "kernelspec": {
   "display_name": "Python 3",
   "language": "python",
   "name": "python3"
  },
  "language_info": {
   "codemirror_mode": {
    "name": "ipython",
    "version": 3
   },
   "file_extension": ".py",
   "mimetype": "text/x-python",
   "name": "python",
   "nbconvert_exporter": "python",
   "pygments_lexer": "ipython3",
   "version": "3.11.1"
  },
  "orig_nbformat": 4
 },
 "nbformat": 4,
 "nbformat_minor": 2
}
